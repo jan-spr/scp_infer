{
 "cells": [
  {
   "cell_type": "markdown",
   "metadata": {},
   "source": [
    "## Infer causal Structure on ScanPy Data"
   ]
  },
  {
   "cell_type": "markdown",
   "metadata": {},
   "source": [
    "#### Structure:\n",
    "A: Load Data from file & look at structure\n",
    "\n",
    "B: Algorithms\n",
    "1. GRNBoost2\n",
    "2. GIES\n",
    "3. DCDI"
   ]
  },
  {
   "cell_type": "markdown",
   "metadata": {},
   "source": [
    "Dependencies:\n",
    " use a conda-env with:\n",
    " - scanpy python-igraph leidenalg\n",
    "\n",
    " GRNBoost:\n",
    " - conda install -c bioconda arboreto\n",
    " \n",
    " GIES:\n",
    " - pip install gies"
   ]
  },
  {
   "cell_type": "code",
   "execution_count": null,
   "metadata": {
    "tags": []
   },
   "outputs": [],
   "source": [
    "import numpy as np\n",
    "import pandas as pd\n",
    "import scanpy as sc\n",
    "import matplotlib.pyplot as plt\n",
    "\n",
    "import scp_infer as scpi"
   ]
  },
  {
   "cell_type": "code",
   "execution_count": null,
   "metadata": {
    "tags": []
   },
   "outputs": [],
   "source": [
    "results_file = '../data/edited/Schraivogel_chr8_ad-scaled_10gene.h5ad'  # the file that will store the analysis results"
   ]
  },
  {
   "cell_type": "markdown",
   "metadata": {},
   "source": [
    "1. Read File"
   ]
  },
  {
   "cell_type": "code",
   "execution_count": null,
   "metadata": {},
   "outputs": [],
   "source": [
    "adata = sc.read_h5ad(results_file)"
   ]
  },
  {
   "cell_type": "markdown",
   "metadata": {},
   "source": [
    "Check what count distribution looks like:"
   ]
  },
  {
   "cell_type": "code",
   "execution_count": null,
   "metadata": {},
   "outputs": [],
   "source": [
    "#1st step: extract data matrix, gene names and cell names from the AnnData object\n",
    "gene_names = adata.var_names\n",
    "cell_names = adata.obs_names\n",
    "\n",
    "#print(\"Data matrix shape: \", df.shape)\n",
    "#print(\"sample: \", df.iloc[0:3,0:3])\n",
    "print(len(gene_names),\"genes: \", [i for i in gene_names[:3]])\n",
    "print(len(cell_names),\"cells: \", [i for i in cell_names[:1]])\n",
    "\n",
    "#2nd step: extract metadata from the AnnData object and exctract perturbation information\n",
    "metadata = adata.obs\n",
    "metadata.head()\n",
    "\n",
    "# Look at more perturbation labels\n",
    "# print(adata.obs['perturbation'].astype(str).copy()[1000:1020])"
   ]
  },
  {
   "cell_type": "code",
   "execution_count": null,
   "metadata": {},
   "outputs": [],
   "source": [
    "# print([i for i in adata.var['mean'][0:10]])\n",
    "# print([i for i in adata.var['std'][0:10]])\n",
    "# print corresponding perturbation labels\n",
    "print('Perturbations: ', [i for i in adata.obs['perturbation'][:10]])\n",
    "\n",
    "scpi.adata.print_expression_mean_std(adata)"
   ]
  },
  {
   "cell_type": "markdown",
   "metadata": {},
   "source": [
    "# B. Algorithms"
   ]
  },
  {
   "cell_type": "markdown",
   "metadata": {},
   "source": [
    "### 1. GRNBoost2"
   ]
  },
  {
   "cell_type": "code",
   "execution_count": null,
   "metadata": {
    "tags": []
   },
   "outputs": [],
   "source": [
    "run_GRNBoost = False\n",
    "if run_GRNBoost:\n",
    "    grnb = scpi.inference.grnboost2.GRNBoost2Imp(adata, verbose= True)\n",
    "    grnb.convert_data()\n",
    "    grnboost_matrix = grnb.infer()\n",
    "    scpi.visualize.plot_adjacency_matrix(grnboost_matrix, title=\"DCDI\")"
   ]
  },
  {
   "cell_type": "markdown",
   "metadata": {},
   "source": [
    "### 2. GIES"
   ]
  },
  {
   "cell_type": "markdown",
   "metadata": {},
   "source": [
    "1. Reshape Count matrix\n",
    "2. Run GIES\n",
    "\n",
    "\n",
    "GIES Matrix Format - collected by intervention locations :\n",
    "- data: n_interventions x n_samples/intervention (->take min.) x n_variables\n",
    "- Intervention: 1 x n_intervention\n",
    "\n",
    "Data Distribution:\n",
    "- scale to mean 0 & std 1\n",
    "\n",
    "-> intervened values <<0"
   ]
  },
  {
   "cell_type": "code",
   "execution_count": null,
   "metadata": {
    "tags": []
   },
   "outputs": [],
   "source": [
    "run_GIES = True\n",
    "data_GIES = True"
   ]
  },
  {
   "cell_type": "code",
   "execution_count": null,
   "metadata": {
    "tags": []
   },
   "outputs": [],
   "source": [
    "if run_GIES or data_GIES:\n",
    "    gies_imp = scpi.inference.gies.GIESImp(adata, verbose= True)\n",
    "    gies_imp.convert_data(singularized=False)"
   ]
  },
  {
   "cell_type": "code",
   "execution_count": null,
   "metadata": {
    "tags": []
   },
   "outputs": [],
   "source": [
    "# Save the data if it should be used externally\n",
    "if data_GIES:\n",
    "    np.save(\"../data/temp/gies_data_matrix.npy\", gies_imp.data_matrix)\n",
    "\n",
    "    import json\n",
    "\n",
    "    with open(\"../data/temp/gies_intervention_list.json\", 'w') as f:\n",
    "        # indent=2 is not needed but makes the file human-readable \n",
    "        # if the data is nested\n",
    "        json.dump(gies_imp.intervention_list, f, indent=2) "
   ]
  },
  {
   "cell_type": "code",
   "execution_count": null,
   "metadata": {
    "tags": []
   },
   "outputs": [],
   "source": [
    "# Run GIES\n",
    "if run_GIES:\n",
    "    gies_matrix = gies_imp.infer(plot=True)\n",
    "    scpi.visualize.plot_adjacency_matrix(gies_matrix, title=\"DCDI\")"
   ]
  },
  {
   "cell_type": "markdown",
   "metadata": {},
   "source": [
    "### 3. DCDI"
   ]
  },
  {
   "cell_type": "code",
   "execution_count": null,
   "metadata": {},
   "outputs": [],
   "source": [
    "run_DCDI = False\n"
   ]
  },
  {
   "cell_type": "code",
   "execution_count": null,
   "metadata": {},
   "outputs": [],
   "source": [
    "if run_DCDI:\n",
    "    dcdi_imp = scpi.inference.dcdi.DCDIImp(adata, verbose= True)\n",
    "    dcdi_imp.convert_data()\n",
    "    dcdi_matrix = dcdi_imp.infer()\n",
    "    scpi.visualize.plot_adjacency_matrix(dcdi_matrix, title=\"DCDI\")"
   ]
  }
 ],
 "metadata": {
  "kernelspec": {
   "display_name": "py-infer",
   "language": "python",
   "name": "python3"
  },
  "language_info": {
   "codemirror_mode": {
    "name": "ipython",
    "version": 3
   },
   "file_extension": ".py",
   "mimetype": "text/x-python",
   "name": "python",
   "nbconvert_exporter": "python",
   "pygments_lexer": "ipython3",
   "version": "3.12.1"
  }
 },
 "nbformat": 4,
 "nbformat_minor": 4
}
