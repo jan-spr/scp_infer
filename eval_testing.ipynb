{
 "cells": [
  {
   "cell_type": "markdown",
   "metadata": {},
   "source": [
    "Networkx for scp-infer / AnnData Testing"
   ]
  },
  {
   "cell_type": "code",
   "execution_count": 1,
   "metadata": {},
   "outputs": [
    {
     "name": "stderr",
     "output_type": "stream",
     "text": [
      "/home/jans/miniconda3/envs/py-infer/lib/python3.12/site-packages/dask/dataframe/_pyarrow_compat.py:23: UserWarning: You are using pyarrow version 11.0.0 which is known to be insecure. See https://www.cve.org/CVERecord?id=CVE-2023-47248 for further details. Please upgrade to pyarrow>=14.0.1 or install pyarrow-hotfix to patch your current version.\n",
      "  warnings.warn(\n"
     ]
    },
    {
     "name": "stdout",
     "output_type": "stream",
     "text": [
      "Current dir:  /home/jans/Documents/Masterarbeit/code/scp-infer\n",
      "['/home/jans/Documents/Masterarbeit/code/scp-infer', '/home/jans/miniconda3/envs/py-infer/lib/python312.zip', '/home/jans/miniconda3/envs/py-infer/lib/python3.12', '/home/jans/miniconda3/envs/py-infer/lib/python3.12/lib-dynload', '', '/home/jans/miniconda3/envs/py-infer/lib/python3.12/site-packages', '/home/jans/Documents/Masterarbeit/code/scp-infer/algorithm_implementations']\n",
      "PyTorch not installed. Please install it to use DCDI.\n"
     ]
    }
   ],
   "source": [
    "import numpy as np\n",
    "import matplotlib.pyplot as plt\n",
    "import scp_infer as scpi\n",
    "import networkx as nx\n",
    "import scanpy as sc"
   ]
  },
  {
   "cell_type": "code",
   "execution_count": 2,
   "metadata": {},
   "outputs": [],
   "source": [
    "results_file = '../data/edited/Schraivogel_chr8-un-scaled-20genes.h5ad'\n",
    "adata = sc.read_h5ad(results_file)"
   ]
  },
  {
   "cell_type": "code",
   "execution_count": 3,
   "metadata": {},
   "outputs": [
    {
     "name": "stdout",
     "output_type": "stream",
     "text": [
      "20 genes:  ['CCNE2', 'CPQ', 'CROPseq_dCas9_DS_chr8:103754850-103755402_5_+']\n",
      "3638 cells:  ['TGATTGACAAACCTGAGAGCTATA-sample_14']\n"
     ]
    },
    {
     "data": {
      "text/html": [
       "<div>\n",
       "<style scoped>\n",
       "    .dataframe tbody tr th:only-of-type {\n",
       "        vertical-align: middle;\n",
       "    }\n",
       "\n",
       "    .dataframe tbody tr th {\n",
       "        vertical-align: top;\n",
       "    }\n",
       "\n",
       "    .dataframe thead th {\n",
       "        text-align: right;\n",
       "    }\n",
       "</style>\n",
       "<table border=\"1\" class=\"dataframe\">\n",
       "  <thead>\n",
       "    <tr style=\"text-align: right;\">\n",
       "      <th></th>\n",
       "      <th>replicate</th>\n",
       "      <th>tissue_type</th>\n",
       "      <th>cell_line</th>\n",
       "      <th>cancer</th>\n",
       "      <th>disease</th>\n",
       "      <th>celltype</th>\n",
       "      <th>organism</th>\n",
       "      <th>perturbation</th>\n",
       "      <th>perturbation_type</th>\n",
       "      <th>ncounts</th>\n",
       "      <th>...</th>\n",
       "      <th>n_genes_by_counts</th>\n",
       "      <th>total_counts</th>\n",
       "      <th>n_genes</th>\n",
       "      <th>total_counts_mt</th>\n",
       "      <th>pct_counts_mt</th>\n",
       "      <th>non-targeting</th>\n",
       "      <th>multiplet</th>\n",
       "      <th>control</th>\n",
       "      <th>nan</th>\n",
       "      <th>gene_perturbation_mask</th>\n",
       "    </tr>\n",
       "    <tr>\n",
       "      <th>cell_barcode</th>\n",
       "      <th></th>\n",
       "      <th></th>\n",
       "      <th></th>\n",
       "      <th></th>\n",
       "      <th></th>\n",
       "      <th></th>\n",
       "      <th></th>\n",
       "      <th></th>\n",
       "      <th></th>\n",
       "      <th></th>\n",
       "      <th></th>\n",
       "      <th></th>\n",
       "      <th></th>\n",
       "      <th></th>\n",
       "      <th></th>\n",
       "      <th></th>\n",
       "      <th></th>\n",
       "      <th></th>\n",
       "      <th></th>\n",
       "      <th></th>\n",
       "      <th></th>\n",
       "    </tr>\n",
       "  </thead>\n",
       "  <tbody>\n",
       "    <tr>\n",
       "      <th>TGATTGACAAACCTGAGAGCTATA-sample_14</th>\n",
       "      <td>sample_14</td>\n",
       "      <td>cell_line</td>\n",
       "      <td>K562</td>\n",
       "      <td>True</td>\n",
       "      <td>chronic myelogenous leukemia</td>\n",
       "      <td>lymphoblasts</td>\n",
       "      <td>human</td>\n",
       "      <td>RIPK2</td>\n",
       "      <td>CRISPR</td>\n",
       "      <td>1247.0</td>\n",
       "      <td>...</td>\n",
       "      <td>61</td>\n",
       "      <td>1247.0</td>\n",
       "      <td>61</td>\n",
       "      <td>0.0</td>\n",
       "      <td>0.0</td>\n",
       "      <td>False</td>\n",
       "      <td>False</td>\n",
       "      <td>False</td>\n",
       "      <td>False</td>\n",
       "      <td>True</td>\n",
       "    </tr>\n",
       "    <tr>\n",
       "      <th>TGATTGACAAACCTGAGTCGAGTG-sample_14</th>\n",
       "      <td>sample_14</td>\n",
       "      <td>cell_line</td>\n",
       "      <td>K562</td>\n",
       "      <td>True</td>\n",
       "      <td>chronic myelogenous leukemia</td>\n",
       "      <td>lymphoblasts</td>\n",
       "      <td>human</td>\n",
       "      <td>DSCC1</td>\n",
       "      <td>CRISPR</td>\n",
       "      <td>2615.0</td>\n",
       "      <td>...</td>\n",
       "      <td>65</td>\n",
       "      <td>2615.0</td>\n",
       "      <td>65</td>\n",
       "      <td>0.0</td>\n",
       "      <td>0.0</td>\n",
       "      <td>False</td>\n",
       "      <td>False</td>\n",
       "      <td>False</td>\n",
       "      <td>False</td>\n",
       "      <td>True</td>\n",
       "    </tr>\n",
       "    <tr>\n",
       "      <th>TGATTGACAAACCTGCAACTTGAC-sample_14</th>\n",
       "      <td>sample_14</td>\n",
       "      <td>cell_line</td>\n",
       "      <td>K562</td>\n",
       "      <td>True</td>\n",
       "      <td>chronic myelogenous leukemia</td>\n",
       "      <td>lymphoblasts</td>\n",
       "      <td>human</td>\n",
       "      <td>OXR1</td>\n",
       "      <td>CRISPR</td>\n",
       "      <td>1445.0</td>\n",
       "      <td>...</td>\n",
       "      <td>63</td>\n",
       "      <td>1445.0</td>\n",
       "      <td>63</td>\n",
       "      <td>0.0</td>\n",
       "      <td>0.0</td>\n",
       "      <td>False</td>\n",
       "      <td>False</td>\n",
       "      <td>False</td>\n",
       "      <td>False</td>\n",
       "      <td>True</td>\n",
       "    </tr>\n",
       "    <tr>\n",
       "      <th>TGATTGACAAACCTGCAGTATCTG-sample_14</th>\n",
       "      <td>sample_14</td>\n",
       "      <td>cell_line</td>\n",
       "      <td>K562</td>\n",
       "      <td>True</td>\n",
       "      <td>chronic myelogenous leukemia</td>\n",
       "      <td>lymphoblasts</td>\n",
       "      <td>human</td>\n",
       "      <td>non-targeting</td>\n",
       "      <td>CRISPR</td>\n",
       "      <td>1711.0</td>\n",
       "      <td>...</td>\n",
       "      <td>72</td>\n",
       "      <td>1711.0</td>\n",
       "      <td>72</td>\n",
       "      <td>0.0</td>\n",
       "      <td>0.0</td>\n",
       "      <td>True</td>\n",
       "      <td>False</td>\n",
       "      <td>False</td>\n",
       "      <td>False</td>\n",
       "      <td>False</td>\n",
       "    </tr>\n",
       "    <tr>\n",
       "      <th>TGATTGACAAACCTGCATGCAATC-sample_14</th>\n",
       "      <td>sample_14</td>\n",
       "      <td>cell_line</td>\n",
       "      <td>K562</td>\n",
       "      <td>True</td>\n",
       "      <td>chronic myelogenous leukemia</td>\n",
       "      <td>lymphoblasts</td>\n",
       "      <td>human</td>\n",
       "      <td>STK3</td>\n",
       "      <td>CRISPR</td>\n",
       "      <td>974.0</td>\n",
       "      <td>...</td>\n",
       "      <td>60</td>\n",
       "      <td>974.0</td>\n",
       "      <td>60</td>\n",
       "      <td>0.0</td>\n",
       "      <td>0.0</td>\n",
       "      <td>False</td>\n",
       "      <td>False</td>\n",
       "      <td>False</td>\n",
       "      <td>False</td>\n",
       "      <td>True</td>\n",
       "    </tr>\n",
       "  </tbody>\n",
       "</table>\n",
       "<p>5 rows × 24 columns</p>\n",
       "</div>"
      ],
      "text/plain": [
       "                                    replicate tissue_type cell_line  cancer  \\\n",
       "cell_barcode                                                                  \n",
       "TGATTGACAAACCTGAGAGCTATA-sample_14  sample_14   cell_line      K562    True   \n",
       "TGATTGACAAACCTGAGTCGAGTG-sample_14  sample_14   cell_line      K562    True   \n",
       "TGATTGACAAACCTGCAACTTGAC-sample_14  sample_14   cell_line      K562    True   \n",
       "TGATTGACAAACCTGCAGTATCTG-sample_14  sample_14   cell_line      K562    True   \n",
       "TGATTGACAAACCTGCATGCAATC-sample_14  sample_14   cell_line      K562    True   \n",
       "\n",
       "                                                         disease  \\\n",
       "cell_barcode                                                       \n",
       "TGATTGACAAACCTGAGAGCTATA-sample_14  chronic myelogenous leukemia   \n",
       "TGATTGACAAACCTGAGTCGAGTG-sample_14  chronic myelogenous leukemia   \n",
       "TGATTGACAAACCTGCAACTTGAC-sample_14  chronic myelogenous leukemia   \n",
       "TGATTGACAAACCTGCAGTATCTG-sample_14  chronic myelogenous leukemia   \n",
       "TGATTGACAAACCTGCATGCAATC-sample_14  chronic myelogenous leukemia   \n",
       "\n",
       "                                        celltype organism   perturbation  \\\n",
       "cell_barcode                                                               \n",
       "TGATTGACAAACCTGAGAGCTATA-sample_14  lymphoblasts    human          RIPK2   \n",
       "TGATTGACAAACCTGAGTCGAGTG-sample_14  lymphoblasts    human          DSCC1   \n",
       "TGATTGACAAACCTGCAACTTGAC-sample_14  lymphoblasts    human           OXR1   \n",
       "TGATTGACAAACCTGCAGTATCTG-sample_14  lymphoblasts    human  non-targeting   \n",
       "TGATTGACAAACCTGCATGCAATC-sample_14  lymphoblasts    human           STK3   \n",
       "\n",
       "                                   perturbation_type  ncounts  ...  \\\n",
       "cell_barcode                                                   ...   \n",
       "TGATTGACAAACCTGAGAGCTATA-sample_14            CRISPR   1247.0  ...   \n",
       "TGATTGACAAACCTGAGTCGAGTG-sample_14            CRISPR   2615.0  ...   \n",
       "TGATTGACAAACCTGCAACTTGAC-sample_14            CRISPR   1445.0  ...   \n",
       "TGATTGACAAACCTGCAGTATCTG-sample_14            CRISPR   1711.0  ...   \n",
       "TGATTGACAAACCTGCATGCAATC-sample_14            CRISPR    974.0  ...   \n",
       "\n",
       "                                    n_genes_by_counts  total_counts  n_genes  \\\n",
       "cell_barcode                                                                   \n",
       "TGATTGACAAACCTGAGAGCTATA-sample_14                 61        1247.0       61   \n",
       "TGATTGACAAACCTGAGTCGAGTG-sample_14                 65        2615.0       65   \n",
       "TGATTGACAAACCTGCAACTTGAC-sample_14                 63        1445.0       63   \n",
       "TGATTGACAAACCTGCAGTATCTG-sample_14                 72        1711.0       72   \n",
       "TGATTGACAAACCTGCATGCAATC-sample_14                 60         974.0       60   \n",
       "\n",
       "                                    total_counts_mt  pct_counts_mt  \\\n",
       "cell_barcode                                                         \n",
       "TGATTGACAAACCTGAGAGCTATA-sample_14              0.0            0.0   \n",
       "TGATTGACAAACCTGAGTCGAGTG-sample_14              0.0            0.0   \n",
       "TGATTGACAAACCTGCAACTTGAC-sample_14              0.0            0.0   \n",
       "TGATTGACAAACCTGCAGTATCTG-sample_14              0.0            0.0   \n",
       "TGATTGACAAACCTGCATGCAATC-sample_14              0.0            0.0   \n",
       "\n",
       "                                    non-targeting  multiplet  control    nan  \\\n",
       "cell_barcode                                                                   \n",
       "TGATTGACAAACCTGAGAGCTATA-sample_14          False      False    False  False   \n",
       "TGATTGACAAACCTGAGTCGAGTG-sample_14          False      False    False  False   \n",
       "TGATTGACAAACCTGCAACTTGAC-sample_14          False      False    False  False   \n",
       "TGATTGACAAACCTGCAGTATCTG-sample_14           True      False    False  False   \n",
       "TGATTGACAAACCTGCATGCAATC-sample_14          False      False    False  False   \n",
       "\n",
       "                                    gene_perturbation_mask  \n",
       "cell_barcode                                                \n",
       "TGATTGACAAACCTGAGAGCTATA-sample_14                    True  \n",
       "TGATTGACAAACCTGAGTCGAGTG-sample_14                    True  \n",
       "TGATTGACAAACCTGCAACTTGAC-sample_14                    True  \n",
       "TGATTGACAAACCTGCAGTATCTG-sample_14                   False  \n",
       "TGATTGACAAACCTGCATGCAATC-sample_14                    True  \n",
       "\n",
       "[5 rows x 24 columns]"
      ]
     },
     "execution_count": 3,
     "metadata": {},
     "output_type": "execute_result"
    }
   ],
   "source": [
    "#1st step: extract data matrix, gene names and cell names from the AnnData object\n",
    "gene_names = adata.var_names\n",
    "cell_names = adata.obs_names\n",
    "\n",
    "#print(\"Data matrix shape: \", df.shape)\n",
    "#print(\"sample: \", df.iloc[0:3,0:3])\n",
    "print(len(gene_names),\"genes: \", [i for i in gene_names[:3]])\n",
    "print(len(cell_names),\"cells: \", [i for i in cell_names[:1]])\n",
    "\n",
    "#2nd step: extract metadata from the AnnData object and exctract perturbation information\n",
    "metadata = adata.obs\n",
    "metadata.head()\n",
    "\n",
    "# Look at more perturbation labels\n",
    "# print(adata.obs['perturbation'].astype(str).copy()[1000:1020])"
   ]
  },
  {
   "cell_type": "code",
   "execution_count": 4,
   "metadata": {},
   "outputs": [
    {
     "data": {
      "image/png": "[encoded data removed]",
      "text/plain": [
       "<Figure size 640x480 with 2 Axes>"
      ]
     },
     "metadata": {},
     "output_type": "display_data"
    }
   ],
   "source": [
    "run_GIES = False\n",
    "if run_GIES:\n",
    "    gies_imp = scpi.inference.gies.GIESImp(adata, verbose= True)\n",
    "    gies_imp.convert_data(singularized=False)\n",
    "    gies_matrix = gies_imp.infer(plot=True)\n",
    "    scpi.eval.plot_adjacency_matrix(gies_matrix, title=\"GIES\")\n",
    "    np.save('../data/adjacencies/GIES_20genes_matrix.npy', gies_matrix)\n",
    "else:\n",
    "    gies_matrix = np.load('../data/adjacencies/GIES_20genes_matrix.npy')\n",
    "    scpi.eval.plot_adjacency_matrix(gies_matrix, title=\"GIES\")"
   ]
  },
  {
   "cell_type": "code",
   "execution_count": 6,
   "metadata": {},
   "outputs": [
    {
     "name": "stdout",
     "output_type": "stream",
     "text": [
      "[[0 0 0 0 0 0 0 0 0 0 0 1 0 0 0 0 0 0 0 0]\n",
      " [1 0 0 0 1 0 0 0 0 0 0 1 0 0 0 0 0 0 0 0]\n",
      " [1 1 0 0 0 0 1 0 0 0 0 1 0 1 0 0 0 1 0 0]\n",
      " [0 0 0 0 0 0 0 0 0 0 0 0 0 0 0 0 0 0 0 0]\n",
      " [0 0 0 0 0 0 0 0 0 0 0 0 0 0 0 0 0 0 0 0]\n",
      " [0 0 0 0 0 0 1 0 0 0 0 0 0 0 0 0 0 0 0 0]\n",
      " [0 0 0 1 0 0 0 0 0 0 0 0 0 0 0 0 0 0 0 0]\n",
      " [0 0 0 0 0 0 0 0 0 0 0 0 0 0 0 0 0 0 0 0]\n",
      " [0 0 0 0 0 0 0 0 0 0 0 0 0 0 0 0 0 0 0 0]\n",
      " [0 0 0 0 0 0 0 0 0 0 0 0 0 0 0 0 0 0 0 0]\n",
      " [0 0 0 0 0 0 0 0 0 0 0 0 0 0 0 0 0 0 0 0]\n",
      " [0 0 0 0 0 0 0 0 0 0 0 0 0 0 0 0 0 0 0 0]\n",
      " [1 1 0 0 0 0 0 0 0 0 0 1 0 0 0 0 0 0 0 0]\n",
      " [1 1 0 0 1 0 0 1 0 0 0 1 0 0 0 0 0 0 0 0]\n",
      " [1 1 0 0 1 0 0 1 0 0 0 1 1 1 0 0 0 0 0 0]\n",
      " [1 1 0 0 1 0 0 0 0 0 0 1 1 1 0 0 0 1 0 0]\n",
      " [1 1 0 1 1 0 0 1 0 0 0 1 0 0 0 0 0 1 0 0]\n",
      " [1 1 0 0 1 0 0 1 0 0 0 1 0 0 0 0 0 0 0 0]\n",
      " [1 1 0 0 1 0 0 1 0 0 0 1 1 1 0 0 0 1 0 0]\n",
      " [1 1 0 0 0 0 0 0 0 0 0 1 1 1 0 0 0 1 0 0]]\n"
     ]
    },
    {
     "data": {
      "image/png": "[encoded data removed]",
      "text/plain": [
       "<Figure size 640x480 with 2 Axes>"
      ]
     },
     "metadata": {},
     "output_type": "display_data"
    }
   ],
   "source": [
    "dcdi_matrix = np.array([[0, 0, 0, 0, 0, 0, 0, 0, 0, 0, 0, 1, 0, 0, 0, 0, 0, 0, 0, 0,], [1, 0, 0, 0, 1, 0, 0, 0, 0, 0, 0, 1, 0, 0, 0, 0, 0, 0, 0, 0,], [1, 1, 0, 0, 0, 0, 1, 0, 0, 0, 0, 1, 0, 1, 0, 0, 0, 1, 0, 0,], [0, 0, 0, 0, 0, 0, 0, 0, 0, 0, 0, 0, 0, 0, 0, 0, 0, 0, 0, 0,], [0, 0, 0, 0, 0, 0, 0, 0, 0, 0, 0, 0, 0, 0, 0, 0, 0, 0, 0, 0,], [0, 0, 0, 0, 0, 0, 1, 0, 0, 0, 0, 0, 0, 0, 0, 0, 0, 0, 0, 0,], [0, 0, 0, 1, 0, 0, 0, 0, 0, 0, 0, 0, 0, 0, 0, 0, 0, 0, 0, 0,], [0, 0, 0, 0, 0, 0, 0, 0, 0, 0, 0, 0, 0, 0, 0, 0, 0, 0, 0, 0,], [0, 0, 0, 0, 0, 0, 0, 0, 0, 0, 0, 0, 0, 0, 0, 0, 0, 0, 0, 0,], [0, 0, 0, 0, 0, 0, 0, 0, 0, 0, 0, 0, 0, 0, 0, 0, 0, 0, 0, 0,], [0, 0, 0, 0, 0, 0, 0, 0, 0, 0, 0, 0, 0, 0, 0, 0, 0, 0, 0, 0,], [0, 0, 0, 0, 0, 0, 0, 0, 0, 0, 0, 0, 0, 0, 0, 0, 0, 0, 0, 0,], [1, 1, 0, 0, 0, 0, 0, 0, 0, 0, 0, 1, 0, 0, 0, 0, 0, 0, 0, 0,], [1, 1, 0, 0, 1, 0, 0, 1, 0, 0, 0, 1, 0, 0, 0, 0, 0, 0, 0, 0,], [1, 1, 0, 0, 1, 0, 0, 1, 0, 0, 0, 1, 1, 1, 0, 0, 0, 0, 0, 0,], [1, 1, 0, 0, 1, 0, 0, 0, 0, 0, 0, 1, 1, 1, 0, 0, 0, 1, 0, 0,], [1, 1, 0, 1, 1, 0, 0, 1, 0, 0, 0, 1, 0, 0, 0, 0, 0, 1, 0, 0,], [1, 1, 0, 0, 1, 0, 0, 1, 0, 0, 0, 1, 0, 0, 0, 0, 0, 0, 0, 0,], [1, 1, 0, 0, 1, 0, 0, 1, 0, 0, 0, 1, 1, 1, 0, 0, 0, 1, 0, 0,], [1, 1, 0, 0, 0, 0, 0, 0, 0, 0, 0, 1, 1, 1, 0, 0, 0, 1, 0, 0,]])\n",
    "print(dcdi_matrix)\n",
    "scpi.eval.plot_adjacency_matrix(dcdi_matrix, title=\"DCDI\")"
   ]
  },
  {
   "cell_type": "code",
   "execution_count": 7,
   "metadata": {},
   "outputs": [
    {
     "name": "stdout",
     "output_type": "stream",
     "text": [
      "[[0 0 0 0 0 0 0 0 0 0 0 0 0 0 0 0 0 0 0 0]\n",
      " [0 0 0 0 0 0 0 0 0 0 0 0 0 0 0 0 0 0 0 0]\n",
      " [0 0 0 0 0 0 0 0 0 0 0 0 0 0 0 0 0 0 0 0]\n",
      " [0 0 0 0 0 0 0 0 0 0 0 0 0 0 0 0 0 0 0 0]\n",
      " [0 0 0 0 0 0 0 0 0 0 0 0 0 0 0 0 0 0 0 0]\n",
      " [0 0 0 0 0 0 0 1 0 1 1 0 0 0 0 0 0 0 0 0]\n",
      " [0 0 0 0 0 1 0 1 0 0 0 1 0 0 0 0 0 0 0 0]\n",
      " [0 0 0 0 0 0 0 0 0 1 0 0 0 0 0 0 0 0 0 0]\n",
      " [0 0 0 0 0 0 0 1 0 0 0 0 0 0 0 0 0 0 0 0]\n",
      " [0 0 0 1 1 0 0 0 0 0 0 0 0 0 0 0 0 0 0 0]\n",
      " [0 0 0 0 0 0 1 0 0 0 0 0 0 0 0 0 0 0 0 0]\n",
      " [0 0 0 0 0 0 0 0 0 0 1 0 0 0 0 0 0 0 0 0]\n",
      " [0 1 0 0 0 0 0 0 0 0 0 0 0 0 0 0 0 0 0 0]\n",
      " [0 0 0 0 0 0 0 0 0 0 0 0 0 0 0 0 0 1 0 0]\n",
      " [0 0 0 0 0 0 0 0 0 0 0 0 0 0 0 0 0 0 0 0]\n",
      " [0 0 0 0 0 0 1 1 0 0 0 0 0 1 0 0 0 0 0 0]\n",
      " [0 0 0 0 0 0 0 0 0 0 0 0 0 0 0 0 0 0 0 0]\n",
      " [0 1 0 0 1 0 0 0 0 0 0 0 0 0 0 0 0 0 0 0]\n",
      " [0 0 0 0 0 0 0 0 0 1 0 0 0 0 0 0 0 0 0 0]\n",
      " [0 0 0 0 0 0 0 0 0 0 0 0 0 0 0 0 0 0 0 0]]\n"
     ]
    }
   ],
   "source": [
    "grnb_matrix = np.load('../data/adjacencies/GRNBoost_20genes_matrix.npy')\n",
    "grnb_discrete_matrix = grnb_matrix > 3\n",
    "grnb_discrete_matrix = grnb_discrete_matrix.astype(int)\n",
    "\n",
    "print(grnb_discrete_matrix)"
   ]
  },
  {
   "cell_type": "markdown",
   "metadata": {},
   "source": [
    "Graph evaluation"
   ]
  },
  {
   "cell_type": "code",
   "execution_count": 7,
   "metadata": {},
   "outputs": [
    {
     "name": "stdout",
     "output_type": "stream",
     "text": [
      "True positives:  5\n",
      "False positives:  5\n",
      "Mean Wasserstein distance:  0.2298502549356154\n",
      "Evaluating Wasserstein\n",
      "False omission rate:  0.3168044077134986\n",
      "Negative mean Wasserstein distance:  0.1024837301897236\n"
     ]
    }
   ],
   "source": [
    "gies_tp, gies_fp, gies_wasserstein_distances = scpi.eval.evaluate_wasserstein(adata, gies_matrix)\n",
    "gies_wassertstein = np.mean(gies_wasserstein_distances)\n",
    "print(\"True positives: \", gies_tp)\n",
    "print(\"False positives: \", gies_fp)\n",
    "print(\"Mean Wasserstein distance: \", np.mean(gies_wasserstein_distances))\n",
    "\n",
    "gies_false_omisson_rate, gies_negative_mean_wasserstein = scpi.eval.evaluate_f_o_r(adata, gies_matrix)\n",
    "print(\"False omission rate: \", gies_false_omisson_rate)\n",
    "print(\"Negative mean Wasserstein distance: \", gies_negative_mean_wasserstein)"
   ]
  },
  {
   "cell_type": "code",
   "execution_count": 8,
   "metadata": {},
   "outputs": [
    {
     "name": "stdout",
     "output_type": "stream",
     "text": [
      "True positives:  16\n",
      "False positives:  36\n",
      "Mean Wasserstein distance:  0.09991260949298274\n",
      "Evaluating Wasserstein\n",
      "False omission rate:  0.2724358974358974\n",
      "Negative mean Wasserstein distance:  0.11790671633419027\n"
     ]
    }
   ],
   "source": [
    "dcdi_tp, dcdi_fp, dcdi_wasserstein_distances = scpi.eval.evaluate_wasserstein(adata, dcdi_matrix)\n",
    "dcdi_wassertstein = np.mean(dcdi_wasserstein_distances)\n",
    "print(\"True positives: \", dcdi_tp)\n",
    "print(\"False positives: \", dcdi_fp)\n",
    "print(\"Mean Wasserstein distance: \", np.mean(dcdi_wasserstein_distances))\n",
    "\n",
    "dcdi_false_omisson_rate, dcdi_negative_mean_wasserstein = scpi.eval.evaluate_f_o_r(adata, dcdi_matrix)\n",
    "print(\"False omission rate: \", dcdi_false_omisson_rate)\n",
    "print(\"Negative mean Wasserstein distance: \", dcdi_negative_mean_wasserstein)"
   ]
  },
  {
   "cell_type": "code",
   "execution_count": 9,
   "metadata": {},
   "outputs": [
    {
     "name": "stdout",
     "output_type": "stream",
     "text": [
      "True positives:  3\n",
      "False positives:  5\n",
      "Mean Wasserstein distance:  0.11509265350515929\n",
      "Evaluating Wasserstein\n",
      "False omission rate:  0.34674922600619196\n",
      "Negative mean Wasserstein distance:  0.11435421154160814\n"
     ]
    }
   ],
   "source": [
    "grnb_tp, grnb_fp, grnb_wasserstein_distances = scpi.eval.evaluate_wasserstein(adata, grnb_discrete_matrix)\n",
    "grnb_wassertstein = np.mean(grnb_wasserstein_distances)\n",
    "print(\"True positives: \", grnb_tp)\n",
    "print(\"False positives: \", grnb_fp)\n",
    "print(\"Mean Wasserstein distance: \", np.mean(grnb_wasserstein_distances))\n",
    "\n",
    "grnb_false_omisson_rate, grnb_negative_mean_wasserstein = scpi.eval.evaluate_f_o_r(adata, grnb_discrete_matrix)\n",
    "print(\"False omission rate: \", grnb_false_omisson_rate)\n",
    "print(\"Negative mean Wasserstein distance: \", grnb_negative_mean_wasserstein)"
   ]
  },
  {
   "cell_type": "code",
   "execution_count": 10,
   "metadata": {},
   "outputs": [
    {
     "data": {
      "image/png": "[encoded data removed]",
      "text/plain": [
       "<Figure size 1000x500 with 2 Axes>"
      ]
     },
     "metadata": {},
     "output_type": "display_data"
    }
   ],
   "source": [
    "# Plot Mean Wasserstein Disctance vs. False Omission Rate\n",
    "fig, ax = plt.subplots(1,2, figsize=(10,5))\n",
    "\n",
    "ax[0].scatter(gies_false_omisson_rate, gies_wassertstein, label=\"GIES\")\n",
    "ax[0].scatter(dcdi_false_omisson_rate, dcdi_wassertstein, label=\"DCDI\")\n",
    "ax[0].scatter(grnb_false_omisson_rate, grnb_wassertstein, label=\"GRNBoost2\")\n",
    "ax[0].set_xlabel(\"False Omission Rate\")\n",
    "ax[0].set_ylabel(\"Mean Wasserstein Distance\")\n",
    "ax[0].grid()\n",
    "ax[0].legend()\n",
    "\n",
    "ax[1].scatter(gies_negative_mean_wasserstein, gies_wassertstein, label=\"GIES\")\n",
    "ax[1].scatter(dcdi_negative_mean_wasserstein, dcdi_wassertstein, label=\"DCDI\")\n",
    "ax[1].scatter(grnb_negative_mean_wasserstein, grnb_wassertstein, label=\"GRNBoost2\")\n",
    "ax[1].set_xlabel(\"Negative Mean Wasserstein Distance\")\n",
    "ax[1].set_ylabel(\"Mean Wasserstein Distance\")\n",
    "ax[1].grid()\n",
    "ax[1].legend()\n",
    "\n",
    "plt.savefig(\"../figures/mean_wasserstein_vs_false_omission_rate.png\")\n",
    "plt.show()"
   ]
  },
  {
   "cell_type": "code",
   "execution_count": 9,
   "metadata": {},
   "outputs": [
    {
     "name": "stdout",
     "output_type": "stream",
     "text": [
      "perturbed_genes:  Index(['CCNE2', 'CPQ', 'DSCC1', 'FAM83A', 'LRRCC1', 'OXR1', 'PHF20L1', 'RIPK2',\n",
      "       'STK3', 'UBR5'],\n",
      "      dtype='object', name='gene_symbol')\n",
      "GIES upstream:  15\n",
      "GIES downstream:  13\n",
      "GIES unrelated:  162\n",
      "perturbed_genes:  Index(['CCNE2', 'CPQ', 'DSCC1', 'FAM83A', 'LRRCC1', 'OXR1', 'PHF20L1', 'RIPK2',\n",
      "       'STK3', 'UBR5'],\n",
      "      dtype='object', name='gene_symbol')\n"
     ]
    },
    {
     "name": "stderr",
     "output_type": "stream",
     "text": [
      "/home/jans/Documents/Masterarbeit/code/scp-infer/scp_infer/eval/stat_eval.py:169: ImplicitModificationWarning: Trying to modify attribute `.obs` of view, initializing view as actual.\n",
      "  adata_obj.obs['perturbation_group'] = adata_obj.obs['perturbation']\n",
      "/home/jans/miniconda3/envs/py-infer/lib/python3.12/site-packages/scanpy/tools/_rank_genes_groups.py:422: RuntimeWarning: invalid value encountered in log2\n",
      "  self.stats[group_name, 'logfoldchanges'] = np.log2(\n",
      "/home/jans/miniconda3/envs/py-infer/lib/python3.12/site-packages/scanpy/tools/_rank_genes_groups.py:422: RuntimeWarning: invalid value encountered in log2\n",
      "  self.stats[group_name, 'logfoldchanges'] = np.log2(\n",
      "/home/jans/miniconda3/envs/py-infer/lib/python3.12/site-packages/scanpy/tools/_rank_genes_groups.py:422: RuntimeWarning: invalid value encountered in log2\n",
      "  self.stats[group_name, 'logfoldchanges'] = np.log2(\n",
      "/home/jans/miniconda3/envs/py-infer/lib/python3.12/site-packages/scanpy/tools/_rank_genes_groups.py:422: RuntimeWarning: invalid value encountered in log2\n",
      "  self.stats[group_name, 'logfoldchanges'] = np.log2(\n",
      "/home/jans/miniconda3/envs/py-infer/lib/python3.12/site-packages/scanpy/tools/_rank_genes_groups.py:422: RuntimeWarning: invalid value encountered in log2\n",
      "  self.stats[group_name, 'logfoldchanges'] = np.log2(\n",
      "/home/jans/miniconda3/envs/py-infer/lib/python3.12/site-packages/scanpy/tools/_rank_genes_groups.py:422: RuntimeWarning: invalid value encountered in log2\n",
      "  self.stats[group_name, 'logfoldchanges'] = np.log2(\n",
      "/home/jans/miniconda3/envs/py-infer/lib/python3.12/site-packages/scanpy/tools/_rank_genes_groups.py:422: RuntimeWarning: invalid value encountered in log2\n",
      "  self.stats[group_name, 'logfoldchanges'] = np.log2(\n",
      "/home/jans/miniconda3/envs/py-infer/lib/python3.12/site-packages/scanpy/tools/_rank_genes_groups.py:422: RuntimeWarning: invalid value encountered in log2\n",
      "  self.stats[group_name, 'logfoldchanges'] = np.log2(\n",
      "/home/jans/miniconda3/envs/py-infer/lib/python3.12/site-packages/scanpy/tools/_rank_genes_groups.py:422: RuntimeWarning: invalid value encountered in log2\n",
      "  self.stats[group_name, 'logfoldchanges'] = np.log2(\n",
      "/home/jans/miniconda3/envs/py-infer/lib/python3.12/site-packages/scanpy/tools/_rank_genes_groups.py:422: RuntimeWarning: invalid value encountered in log2\n",
      "  self.stats[group_name, 'logfoldchanges'] = np.log2(\n",
      "/home/jans/miniconda3/envs/py-infer/lib/python3.12/site-packages/scanpy/tools/_rank_genes_groups.py:422: RuntimeWarning: invalid value encountered in log2\n",
      "  self.stats[group_name, 'logfoldchanges'] = np.log2(\n",
      "/home/jans/Documents/Masterarbeit/code/scp-infer/scp_infer/eval/stat_eval.py:169: ImplicitModificationWarning: Trying to modify attribute `.obs` of view, initializing view as actual.\n",
      "  adata_obj.obs['perturbation_group'] = adata_obj.obs['perturbation']\n",
      "/home/jans/miniconda3/envs/py-infer/lib/python3.12/site-packages/scanpy/tools/_rank_genes_groups.py:422: RuntimeWarning: invalid value encountered in log2\n",
      "  self.stats[group_name, 'logfoldchanges'] = np.log2(\n",
      "/home/jans/miniconda3/envs/py-infer/lib/python3.12/site-packages/scanpy/tools/_rank_genes_groups.py:422: RuntimeWarning: invalid value encountered in log2\n",
      "  self.stats[group_name, 'logfoldchanges'] = np.log2(\n",
      "/home/jans/miniconda3/envs/py-infer/lib/python3.12/site-packages/scanpy/tools/_rank_genes_groups.py:422: RuntimeWarning: invalid value encountered in log2\n",
      "  self.stats[group_name, 'logfoldchanges'] = np.log2(\n",
      "/home/jans/miniconda3/envs/py-infer/lib/python3.12/site-packages/scanpy/tools/_rank_genes_groups.py:422: RuntimeWarning: invalid value encountered in log2\n",
      "  self.stats[group_name, 'logfoldchanges'] = np.log2(\n",
      "/home/jans/miniconda3/envs/py-infer/lib/python3.12/site-packages/scanpy/tools/_rank_genes_groups.py:422: RuntimeWarning: invalid value encountered in log2\n",
      "  self.stats[group_name, 'logfoldchanges'] = np.log2(\n",
      "/home/jans/miniconda3/envs/py-infer/lib/python3.12/site-packages/scanpy/tools/_rank_genes_groups.py:422: RuntimeWarning: invalid value encountered in log2\n",
      "  self.stats[group_name, 'logfoldchanges'] = np.log2(\n",
      "/home/jans/miniconda3/envs/py-infer/lib/python3.12/site-packages/scanpy/tools/_rank_genes_groups.py:422: RuntimeWarning: invalid value encountered in log2\n",
      "  self.stats[group_name, 'logfoldchanges'] = np.log2(\n",
      "/home/jans/miniconda3/envs/py-infer/lib/python3.12/site-packages/scanpy/tools/_rank_genes_groups.py:422: RuntimeWarning: invalid value encountered in log2\n",
      "  self.stats[group_name, 'logfoldchanges'] = np.log2(\n",
      "/home/jans/miniconda3/envs/py-infer/lib/python3.12/site-packages/scanpy/tools/_rank_genes_groups.py:422: RuntimeWarning: invalid value encountered in log2\n",
      "  self.stats[group_name, 'logfoldchanges'] = np.log2(\n",
      "/home/jans/miniconda3/envs/py-infer/lib/python3.12/site-packages/scanpy/tools/_rank_genes_groups.py:422: RuntimeWarning: invalid value encountered in log2\n",
      "  self.stats[group_name, 'logfoldchanges'] = np.log2(\n",
      "/home/jans/miniconda3/envs/py-infer/lib/python3.12/site-packages/scanpy/tools/_rank_genes_groups.py:422: RuntimeWarning: invalid value encountered in log2\n",
      "  self.stats[group_name, 'logfoldchanges'] = np.log2(\n",
      "/home/jans/Documents/Masterarbeit/code/scp-infer/scp_infer/eval/stat_eval.py:169: ImplicitModificationWarning: Trying to modify attribute `.obs` of view, initializing view as actual.\n",
      "  adata_obj.obs['perturbation_group'] = adata_obj.obs['perturbation']\n",
      "/home/jans/miniconda3/envs/py-infer/lib/python3.12/site-packages/scanpy/tools/_rank_genes_groups.py:422: RuntimeWarning: invalid value encountered in log2\n",
      "  self.stats[group_name, 'logfoldchanges'] = np.log2(\n",
      "/home/jans/miniconda3/envs/py-infer/lib/python3.12/site-packages/scanpy/tools/_rank_genes_groups.py:422: RuntimeWarning: invalid value encountered in log2\n",
      "  self.stats[group_name, 'logfoldchanges'] = np.log2(\n",
      "/home/jans/miniconda3/envs/py-infer/lib/python3.12/site-packages/scanpy/tools/_rank_genes_groups.py:422: RuntimeWarning: invalid value encountered in log2\n",
      "  self.stats[group_name, 'logfoldchanges'] = np.log2(\n",
      "/home/jans/miniconda3/envs/py-infer/lib/python3.12/site-packages/scanpy/tools/_rank_genes_groups.py:422: RuntimeWarning: invalid value encountered in log2\n",
      "  self.stats[group_name, 'logfoldchanges'] = np.log2(\n"
     ]
    },
    {
     "name": "stdout",
     "output_type": "stream",
     "text": [
      "DCDI upstream:  33\n",
      "DCDI downstream:  56\n",
      "DCDI unrelated:  101\n",
      "perturbed_genes:  Index(['CCNE2', 'CPQ', 'DSCC1', 'FAM83A', 'LRRCC1', 'OXR1', 'PHF20L1', 'RIPK2',\n",
      "       'STK3', 'UBR5'],\n",
      "      dtype='object', name='gene_symbol')\n",
      "GRNBoost2 upstream:  7\n",
      "GRNBoost2 downstream:  20\n",
      "GRNBoost2 unrelated:  163\n"
     ]
    },
    {
     "name": "stderr",
     "output_type": "stream",
     "text": [
      "/home/jans/miniconda3/envs/py-infer/lib/python3.12/site-packages/scanpy/tools/_rank_genes_groups.py:422: RuntimeWarning: invalid value encountered in log2\n",
      "  self.stats[group_name, 'logfoldchanges'] = np.log2(\n",
      "/home/jans/miniconda3/envs/py-infer/lib/python3.12/site-packages/scanpy/tools/_rank_genes_groups.py:422: RuntimeWarning: invalid value encountered in log2\n",
      "  self.stats[group_name, 'logfoldchanges'] = np.log2(\n",
      "/home/jans/miniconda3/envs/py-infer/lib/python3.12/site-packages/scanpy/tools/_rank_genes_groups.py:422: RuntimeWarning: invalid value encountered in log2\n",
      "  self.stats[group_name, 'logfoldchanges'] = np.log2(\n",
      "/home/jans/miniconda3/envs/py-infer/lib/python3.12/site-packages/scanpy/tools/_rank_genes_groups.py:422: RuntimeWarning: invalid value encountered in log2\n",
      "  self.stats[group_name, 'logfoldchanges'] = np.log2(\n",
      "/home/jans/miniconda3/envs/py-infer/lib/python3.12/site-packages/scanpy/tools/_rank_genes_groups.py:422: RuntimeWarning: invalid value encountered in log2\n",
      "  self.stats[group_name, 'logfoldchanges'] = np.log2(\n",
      "/home/jans/miniconda3/envs/py-infer/lib/python3.12/site-packages/scanpy/tools/_rank_genes_groups.py:422: RuntimeWarning: invalid value encountered in log2\n",
      "  self.stats[group_name, 'logfoldchanges'] = np.log2(\n",
      "/home/jans/miniconda3/envs/py-infer/lib/python3.12/site-packages/scanpy/tools/_rank_genes_groups.py:422: RuntimeWarning: invalid value encountered in log2\n",
      "  self.stats[group_name, 'logfoldchanges'] = np.log2(\n"
     ]
    }
   ],
   "source": [
    "# test DE graph eval\n",
    "for label, matrix in zip([\"GIES\", \"DCDI\", \"GRNBoost2\"], [gies_matrix, dcdi_matrix, grnb_discrete_matrix]):\n",
    "    upstream, donwstream, unrelated = scpi.eval.de_graph_hierarchy(adata, matrix)\n",
    "    print(label, \"upstream: \", upstream)\n",
    "    print(label, \"downstream: \", donwstream)\n",
    "    print(label, \"unrelated: \", unrelated)"
   ]
  },
  {
   "cell_type": "code",
   "execution_count": 6,
   "metadata": {},
   "outputs": [
    {
     "name": "stdout",
     "output_type": "stream",
     "text": [
      "Upstream:  15\n",
      "Downstream:  13\n",
      "Unrelated:  162\n"
     ]
    }
   ],
   "source": [
    "print(\"Upstream: \", upstream)\n",
    "print(\"Downstream: \", donwstream)\n",
    "print(\"Unrelated: \", unrelated)"
   ]
  },
  {
   "cell_type": "code",
   "execution_count": null,
   "metadata": {},
   "outputs": [],
   "source": []
  }
 ],
 "metadata": {
  "kernelspec": {
   "display_name": "py-infer",
   "language": "python",
   "name": "python3"
  },
  "language_info": {
   "codemirror_mode": {
    "name": "ipython",
    "version": 3
   },
   "file_extension": ".py",
   "mimetype": "text/x-python",
   "name": "python",
   "nbconvert_exporter": "python",
   "pygments_lexer": "ipython3",
   "version": "3.12.1"
  }
 },
 "nbformat": 4,
 "nbformat_minor": 2
}
