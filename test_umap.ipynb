{
 "cells": [
  {
   "cell_type": "markdown",
   "metadata": {},
   "source": [
    "## Infer causal Structure on ScanPy Data"
   ]
  },
  {
   "cell_type": "markdown",
   "metadata": {},
   "source": [
    "#### Structure:\n",
    "A: Load Data from file & look at structure\n",
    "\n",
    "B: Algorithms\n",
    "1. GRNBoost2\n",
    "2. GIES\n",
    "3. DCDI"
   ]
  },
  {
   "cell_type": "markdown",
   "metadata": {},
   "source": [
    "Dependencies:\n",
    " use a conda-env with:\n",
    " - scanpy python-igraph leidenalg\n",
    "\n",
    " GRNBoost:\n",
    " - conda install -c bioconda arboreto\n",
    " \n",
    " GIES:\n",
    " - pip install gies"
   ]
  },
  {
   "cell_type": "code",
   "execution_count": 1,
   "metadata": {
    "tags": []
   },
   "outputs": [
    {
     "name": "stderr",
     "output_type": "stream",
     "text": [
      "/home/jans/miniconda3/envs/py-infer/lib/python3.12/site-packages/dask/dataframe/_pyarrow_compat.py:23: UserWarning: You are using pyarrow version 11.0.0 which is known to be insecure. See https://www.cve.org/CVERecord?id=CVE-2023-47248 for further details. Please upgrade to pyarrow>=14.0.1 or install pyarrow-hotfix to patch your current version.\n",
      "  warnings.warn(\n"
     ]
    },
    {
     "name": "stdout",
     "output_type": "stream",
     "text": [
      "Current dir:  /home/jans/Documents/Masterarbeit/code/scp-infer\n",
      "['/home/jans/Documents/Masterarbeit/code/scp-infer', '/home/jans/miniconda3/envs/py-infer/lib/python312.zip', '/home/jans/miniconda3/envs/py-infer/lib/python3.12', '/home/jans/miniconda3/envs/py-infer/lib/python3.12/lib-dynload', '', '/home/jans/miniconda3/envs/py-infer/lib/python3.12/site-packages', '/home/jans/Documents/Masterarbeit/code/scp-infer/algorithm_implementations']\n",
      "PyTorch not installed. Please install it to use DCDI.\n"
     ]
    }
   ],
   "source": [
    "import numpy as np\n",
    "import pandas as pd\n",
    "import scanpy as sc\n",
    "import matplotlib.pyplot as plt\n",
    "\n",
    "import scp_infer as scpi"
   ]
  },
  {
   "cell_type": "code",
   "execution_count": 2,
   "metadata": {
    "tags": []
   },
   "outputs": [],
   "source": [
    "results_file = '../data/edited/Schraivogel_chr8-sc-scaled-20genes.h5ad'  # the file that will store the analysis results"
   ]
  },
  {
   "cell_type": "markdown",
   "metadata": {},
   "source": [
    "1. Read File"
   ]
  },
  {
   "cell_type": "code",
   "execution_count": 3,
   "metadata": {},
   "outputs": [
    {
     "data": {
      "text/plain": [
       "AnnData object with n_obs × n_vars = 3638 × 20\n",
       "    obs: 'replicate', 'tissue_type', 'cell_line', 'cancer', 'disease', 'celltype', 'organism', 'perturbation', 'perturbation_type', 'ncounts', 'ngenes', 'percent_mito', 'percent_ribo', 'nperts', 'n_genes_by_counts', 'total_counts', 'n_genes', 'total_counts_mt', 'pct_counts_mt', 'non-targeting', 'multiplet', 'control', 'nan', 'gene_perturbation_mask'\n",
       "    var: 'ncounts', 'ncells', 'n_cells_by_counts', 'mean_counts', 'pct_dropout_by_counts', 'total_counts', 'n_cells', 'mt', 'gene_perturbed', 'highly_variable', 'means', 'dispersions', 'dispersions_norm', 'mean', 'std'\n",
       "    uns: 'hvg', 'log1p'\n",
       "    layers: 'perturbed_elem_mask'"
      ]
     },
     "execution_count": 3,
     "metadata": {},
     "output_type": "execute_result"
    }
   ],
   "source": [
    "adata = sc.read_h5ad(results_file)\n",
    "adata"
   ]
  },
  {
   "cell_type": "markdown",
   "metadata": {},
   "source": [
    "Check what count distribution looks like:"
   ]
  },
  {
   "cell_type": "code",
   "execution_count": 4,
   "metadata": {},
   "outputs": [
    {
     "name": "stdout",
     "output_type": "stream",
     "text": [
      "20 genes:  ['CCNE2', 'CPQ', 'CROPseq_dCas9_DS_chr8:103754850-103755402_5_+']\n",
      "3638 cells:  ['TGATTGACAAACCTGAGAGCTATA-sample_14']\n"
     ]
    },
    {
     "data": {
      "text/html": [
       "<div>\n",
       "<style scoped>\n",
       "    .dataframe tbody tr th:only-of-type {\n",
       "        vertical-align: middle;\n",
       "    }\n",
       "\n",
       "    .dataframe tbody tr th {\n",
       "        vertical-align: top;\n",
       "    }\n",
       "\n",
       "    .dataframe thead th {\n",
       "        text-align: right;\n",
       "    }\n",
       "</style>\n",
       "<table border=\"1\" class=\"dataframe\">\n",
       "  <thead>\n",
       "    <tr style=\"text-align: right;\">\n",
       "      <th></th>\n",
       "      <th>replicate</th>\n",
       "      <th>tissue_type</th>\n",
       "      <th>cell_line</th>\n",
       "      <th>cancer</th>\n",
       "      <th>disease</th>\n",
       "      <th>celltype</th>\n",
       "      <th>organism</th>\n",
       "      <th>perturbation</th>\n",
       "      <th>perturbation_type</th>\n",
       "      <th>ncounts</th>\n",
       "      <th>...</th>\n",
       "      <th>n_genes_by_counts</th>\n",
       "      <th>total_counts</th>\n",
       "      <th>n_genes</th>\n",
       "      <th>total_counts_mt</th>\n",
       "      <th>pct_counts_mt</th>\n",
       "      <th>non-targeting</th>\n",
       "      <th>multiplet</th>\n",
       "      <th>control</th>\n",
       "      <th>nan</th>\n",
       "      <th>gene_perturbation_mask</th>\n",
       "    </tr>\n",
       "    <tr>\n",
       "      <th>cell_barcode</th>\n",
       "      <th></th>\n",
       "      <th></th>\n",
       "      <th></th>\n",
       "      <th></th>\n",
       "      <th></th>\n",
       "      <th></th>\n",
       "      <th></th>\n",
       "      <th></th>\n",
       "      <th></th>\n",
       "      <th></th>\n",
       "      <th></th>\n",
       "      <th></th>\n",
       "      <th></th>\n",
       "      <th></th>\n",
       "      <th></th>\n",
       "      <th></th>\n",
       "      <th></th>\n",
       "      <th></th>\n",
       "      <th></th>\n",
       "      <th></th>\n",
       "      <th></th>\n",
       "    </tr>\n",
       "  </thead>\n",
       "  <tbody>\n",
       "    <tr>\n",
       "      <th>TGATTGACAAACCTGAGAGCTATA-sample_14</th>\n",
       "      <td>sample_14</td>\n",
       "      <td>cell_line</td>\n",
       "      <td>K562</td>\n",
       "      <td>True</td>\n",
       "      <td>chronic myelogenous leukemia</td>\n",
       "      <td>lymphoblasts</td>\n",
       "      <td>human</td>\n",
       "      <td>RIPK2</td>\n",
       "      <td>CRISPR</td>\n",
       "      <td>1247.0</td>\n",
       "      <td>...</td>\n",
       "      <td>61</td>\n",
       "      <td>1247.0</td>\n",
       "      <td>61</td>\n",
       "      <td>0.0</td>\n",
       "      <td>0.0</td>\n",
       "      <td>False</td>\n",
       "      <td>False</td>\n",
       "      <td>False</td>\n",
       "      <td>False</td>\n",
       "      <td>True</td>\n",
       "    </tr>\n",
       "    <tr>\n",
       "      <th>TGATTGACAAACCTGAGTCGAGTG-sample_14</th>\n",
       "      <td>sample_14</td>\n",
       "      <td>cell_line</td>\n",
       "      <td>K562</td>\n",
       "      <td>True</td>\n",
       "      <td>chronic myelogenous leukemia</td>\n",
       "      <td>lymphoblasts</td>\n",
       "      <td>human</td>\n",
       "      <td>DSCC1</td>\n",
       "      <td>CRISPR</td>\n",
       "      <td>2615.0</td>\n",
       "      <td>...</td>\n",
       "      <td>65</td>\n",
       "      <td>2615.0</td>\n",
       "      <td>65</td>\n",
       "      <td>0.0</td>\n",
       "      <td>0.0</td>\n",
       "      <td>False</td>\n",
       "      <td>False</td>\n",
       "      <td>False</td>\n",
       "      <td>False</td>\n",
       "      <td>True</td>\n",
       "    </tr>\n",
       "    <tr>\n",
       "      <th>TGATTGACAAACCTGCAACTTGAC-sample_14</th>\n",
       "      <td>sample_14</td>\n",
       "      <td>cell_line</td>\n",
       "      <td>K562</td>\n",
       "      <td>True</td>\n",
       "      <td>chronic myelogenous leukemia</td>\n",
       "      <td>lymphoblasts</td>\n",
       "      <td>human</td>\n",
       "      <td>OXR1</td>\n",
       "      <td>CRISPR</td>\n",
       "      <td>1445.0</td>\n",
       "      <td>...</td>\n",
       "      <td>63</td>\n",
       "      <td>1445.0</td>\n",
       "      <td>63</td>\n",
       "      <td>0.0</td>\n",
       "      <td>0.0</td>\n",
       "      <td>False</td>\n",
       "      <td>False</td>\n",
       "      <td>False</td>\n",
       "      <td>False</td>\n",
       "      <td>True</td>\n",
       "    </tr>\n",
       "    <tr>\n",
       "      <th>TGATTGACAAACCTGCAGTATCTG-sample_14</th>\n",
       "      <td>sample_14</td>\n",
       "      <td>cell_line</td>\n",
       "      <td>K562</td>\n",
       "      <td>True</td>\n",
       "      <td>chronic myelogenous leukemia</td>\n",
       "      <td>lymphoblasts</td>\n",
       "      <td>human</td>\n",
       "      <td>non-targeting</td>\n",
       "      <td>CRISPR</td>\n",
       "      <td>1711.0</td>\n",
       "      <td>...</td>\n",
       "      <td>72</td>\n",
       "      <td>1711.0</td>\n",
       "      <td>72</td>\n",
       "      <td>0.0</td>\n",
       "      <td>0.0</td>\n",
       "      <td>True</td>\n",
       "      <td>False</td>\n",
       "      <td>False</td>\n",
       "      <td>False</td>\n",
       "      <td>False</td>\n",
       "    </tr>\n",
       "    <tr>\n",
       "      <th>TGATTGACAAACCTGCATGCAATC-sample_14</th>\n",
       "      <td>sample_14</td>\n",
       "      <td>cell_line</td>\n",
       "      <td>K562</td>\n",
       "      <td>True</td>\n",
       "      <td>chronic myelogenous leukemia</td>\n",
       "      <td>lymphoblasts</td>\n",
       "      <td>human</td>\n",
       "      <td>STK3</td>\n",
       "      <td>CRISPR</td>\n",
       "      <td>974.0</td>\n",
       "      <td>...</td>\n",
       "      <td>60</td>\n",
       "      <td>974.0</td>\n",
       "      <td>60</td>\n",
       "      <td>0.0</td>\n",
       "      <td>0.0</td>\n",
       "      <td>False</td>\n",
       "      <td>False</td>\n",
       "      <td>False</td>\n",
       "      <td>False</td>\n",
       "      <td>True</td>\n",
       "    </tr>\n",
       "  </tbody>\n",
       "</table>\n",
       "<p>5 rows × 24 columns</p>\n",
       "</div>"
      ],
      "text/plain": [
       "                                    replicate tissue_type cell_line  cancer  \\\n",
       "cell_barcode                                                                  \n",
       "TGATTGACAAACCTGAGAGCTATA-sample_14  sample_14   cell_line      K562    True   \n",
       "TGATTGACAAACCTGAGTCGAGTG-sample_14  sample_14   cell_line      K562    True   \n",
       "TGATTGACAAACCTGCAACTTGAC-sample_14  sample_14   cell_line      K562    True   \n",
       "TGATTGACAAACCTGCAGTATCTG-sample_14  sample_14   cell_line      K562    True   \n",
       "TGATTGACAAACCTGCATGCAATC-sample_14  sample_14   cell_line      K562    True   \n",
       "\n",
       "                                                         disease  \\\n",
       "cell_barcode                                                       \n",
       "TGATTGACAAACCTGAGAGCTATA-sample_14  chronic myelogenous leukemia   \n",
       "TGATTGACAAACCTGAGTCGAGTG-sample_14  chronic myelogenous leukemia   \n",
       "TGATTGACAAACCTGCAACTTGAC-sample_14  chronic myelogenous leukemia   \n",
       "TGATTGACAAACCTGCAGTATCTG-sample_14  chronic myelogenous leukemia   \n",
       "TGATTGACAAACCTGCATGCAATC-sample_14  chronic myelogenous leukemia   \n",
       "\n",
       "                                        celltype organism   perturbation  \\\n",
       "cell_barcode                                                               \n",
       "TGATTGACAAACCTGAGAGCTATA-sample_14  lymphoblasts    human          RIPK2   \n",
       "TGATTGACAAACCTGAGTCGAGTG-sample_14  lymphoblasts    human          DSCC1   \n",
       "TGATTGACAAACCTGCAACTTGAC-sample_14  lymphoblasts    human           OXR1   \n",
       "TGATTGACAAACCTGCAGTATCTG-sample_14  lymphoblasts    human  non-targeting   \n",
       "TGATTGACAAACCTGCATGCAATC-sample_14  lymphoblasts    human           STK3   \n",
       "\n",
       "                                   perturbation_type  ncounts  ...  \\\n",
       "cell_barcode                                                   ...   \n",
       "TGATTGACAAACCTGAGAGCTATA-sample_14            CRISPR   1247.0  ...   \n",
       "TGATTGACAAACCTGAGTCGAGTG-sample_14            CRISPR   2615.0  ...   \n",
       "TGATTGACAAACCTGCAACTTGAC-sample_14            CRISPR   1445.0  ...   \n",
       "TGATTGACAAACCTGCAGTATCTG-sample_14            CRISPR   1711.0  ...   \n",
       "TGATTGACAAACCTGCATGCAATC-sample_14            CRISPR    974.0  ...   \n",
       "\n",
       "                                    n_genes_by_counts  total_counts  n_genes  \\\n",
       "cell_barcode                                                                   \n",
       "TGATTGACAAACCTGAGAGCTATA-sample_14                 61        1247.0       61   \n",
       "TGATTGACAAACCTGAGTCGAGTG-sample_14                 65        2615.0       65   \n",
       "TGATTGACAAACCTGCAACTTGAC-sample_14                 63        1445.0       63   \n",
       "TGATTGACAAACCTGCAGTATCTG-sample_14                 72        1711.0       72   \n",
       "TGATTGACAAACCTGCATGCAATC-sample_14                 60         974.0       60   \n",
       "\n",
       "                                    total_counts_mt  pct_counts_mt  \\\n",
       "cell_barcode                                                         \n",
       "TGATTGACAAACCTGAGAGCTATA-sample_14              0.0            0.0   \n",
       "TGATTGACAAACCTGAGTCGAGTG-sample_14              0.0            0.0   \n",
       "TGATTGACAAACCTGCAACTTGAC-sample_14              0.0            0.0   \n",
       "TGATTGACAAACCTGCAGTATCTG-sample_14              0.0            0.0   \n",
       "TGATTGACAAACCTGCATGCAATC-sample_14              0.0            0.0   \n",
       "\n",
       "                                    non-targeting  multiplet  control    nan  \\\n",
       "cell_barcode                                                                   \n",
       "TGATTGACAAACCTGAGAGCTATA-sample_14          False      False    False  False   \n",
       "TGATTGACAAACCTGAGTCGAGTG-sample_14          False      False    False  False   \n",
       "TGATTGACAAACCTGCAACTTGAC-sample_14          False      False    False  False   \n",
       "TGATTGACAAACCTGCAGTATCTG-sample_14           True      False    False  False   \n",
       "TGATTGACAAACCTGCATGCAATC-sample_14          False      False    False  False   \n",
       "\n",
       "                                    gene_perturbation_mask  \n",
       "cell_barcode                                                \n",
       "TGATTGACAAACCTGAGAGCTATA-sample_14                    True  \n",
       "TGATTGACAAACCTGAGTCGAGTG-sample_14                    True  \n",
       "TGATTGACAAACCTGCAACTTGAC-sample_14                    True  \n",
       "TGATTGACAAACCTGCAGTATCTG-sample_14                   False  \n",
       "TGATTGACAAACCTGCATGCAATC-sample_14                    True  \n",
       "\n",
       "[5 rows x 24 columns]"
      ]
     },
     "execution_count": 4,
     "metadata": {},
     "output_type": "execute_result"
    }
   ],
   "source": [
    "#1st step: extract data matrix, gene names and cell names from the AnnData object\n",
    "gene_names = adata.var_names\n",
    "cell_names = adata.obs_names\n",
    "\n",
    "#print(\"Data matrix shape: \", df.shape)\n",
    "#print(\"sample: \", df.iloc[0:3,0:3])\n",
    "print(len(gene_names),\"genes: \", [i for i in gene_names[:3]])\n",
    "print(len(cell_names),\"cells: \", [i for i in cell_names[:1]])\n",
    "\n",
    "#2nd step: extract metadata from the AnnData object and exctract perturbation information\n",
    "metadata = adata.obs\n",
    "metadata.head()\n",
    "\n",
    "# Look at more perturbation labels\n",
    "# print(adata.obs['perturbation'].astype(str).copy()[1000:1020])"
   ]
  },
  {
   "cell_type": "code",
   "execution_count": 5,
   "metadata": {},
   "outputs": [
    {
     "name": "stdout",
     "output_type": "stream",
     "text": [
      "Perturbations:  ['RIPK2', 'DSCC1', 'OXR1', 'non-targeting', 'STK3', 'FAM83A', 'non-targeting', 'non-targeting', 'RIPK2', 'non-targeting']\n",
      "\n",
      "Perturbed Gene Expression:\n",
      "Mean:  -1.4113744075647467\n",
      "Std:  1.4492590032606343\n",
      "Min:  -4.547554016113281\n",
      "Max:  2.776451587677002\n",
      "95% percentile:  -3.999375104904175  -  0.5078186392784119\n",
      "\n",
      "Non-Target Gene Expression:\n",
      "Mean:  -7.267663181836982e-05\n",
      "Std:  0.6138410054692522\n",
      "Min:  -4.547995567321777\n",
      "Max:  2.779264450073242\n",
      "95% percentile:  -0.8693741917610159  -  0.73392196893692\n"
     ]
    }
   ],
   "source": [
    "# print([i for i in adata.var['mean'][0:10]])\n",
    "# print([i for i in adata.var['std'][0:10]])\n",
    "# print corresponding perturbation labels\n",
    "print('Perturbations: ', [i for i in adata.obs['perturbation'][:10]])\n",
    "\n",
    "scpi.adata.print_expression_mean_std(adata)"
   ]
  },
  {
   "cell_type": "markdown",
   "metadata": {},
   "source": [
    "# B. UMAP Visualization"
   ]
  },
  {
   "cell_type": "code",
   "execution_count": 9,
   "metadata": {
    "tags": []
   },
   "outputs": [
    {
     "name": "stderr",
     "output_type": "stream",
     "text": [
      "/home/jans/miniconda3/envs/py-infer/lib/python3.12/site-packages/tqdm/auto.py:21: TqdmWarning: IProgress not found. Please update jupyter and ipywidgets. See https://ipywidgets.readthedocs.io/en/stable/user_install.html\n",
      "  from .autonotebook import tqdm as notebook_tqdm\n"
     ]
    }
   ],
   "source": [
    "sc.pp.neighbors(adata, n_neighbors=10, n_pcs=40)"
   ]
  },
  {
   "cell_type": "code",
   "execution_count": null,
   "metadata": {},
   "outputs": [],
   "source": [
    "pert_genes = adata.var_names[adata.var[\"gene_perturbed\"]]"
   ]
  },
  {
   "cell_type": "code",
   "execution_count": null,
   "metadata": {},
   "outputs": [],
   "source": [
    "sc.tl.umap(adata)\n",
    "sc.pl.umap(adata)"
   ]
  },
  {
   "cell_type": "code",
   "execution_count": null,
   "metadata": {},
   "outputs": [],
   "source": [
    "sc.pl.umap(adata, color = ['replicate','nperts','perturbation'])"
   ]
  },
  {
   "cell_type": "markdown",
   "metadata": {},
   "source": [
    "## UMAP - only perturbed cells"
   ]
  },
  {
   "cell_type": "code",
   "execution_count": null,
   "metadata": {},
   "outputs": [],
   "source": [
    "indices =adata.obs['gene_perturbation_mask'] | adata.obs['non-targeting']\n",
    "adata_pert = adata[indices,:].copy()\n",
    "adata_pert"
   ]
  },
  {
   "cell_type": "code",
   "execution_count": null,
   "metadata": {},
   "outputs": [],
   "source": [
    "sc.pp.neighbors(adata_pert, n_neighbors=10, n_pcs=40)"
   ]
  },
  {
   "cell_type": "code",
   "execution_count": null,
   "metadata": {},
   "outputs": [],
   "source": [
    "sc.tl.umap(adata_pert)\n",
    "sc.pl.umap(adata_pert)"
   ]
  },
  {
   "cell_type": "code",
   "execution_count": null,
   "metadata": {},
   "outputs": [],
   "source": [
    "sc.pl.umap(adata_pert, color = ['replicate','nperts','perturbation'])\n",
    "sc.pl.umap(adata_pert, color = ['percent_ribo','ncounts','ngenes'])"
   ]
  },
  {
   "cell_type": "code",
   "execution_count": null,
   "metadata": {},
   "outputs": [],
   "source": [
    "# Filtered by replicate\n",
    "adata_sample = adata[adata.obs['replicate']=='sample_14',:].copy()\n",
    "pert_genes = adata_sample.var_names[adata_sample.var[\"gene_perturbed\"]]\n",
    "sc.pp.neighbors(adata_sample, n_neighbors=10, n_pcs=40)\n",
    "sc.tl.umap(adata_sample)\n",
    "sc.pl.umap(adata_sample)"
   ]
  },
  {
   "cell_type": "code",
   "execution_count": null,
   "metadata": {},
   "outputs": [],
   "source": [
    "sc.pl.umap(adata_sample, color = pert_genes)"
   ]
  }
 ],
 "metadata": {
  "kernelspec": {
   "display_name": "py-infer",
   "language": "python",
   "name": "python3"
  },
  "language_info": {
   "codemirror_mode": {
    "name": "ipython",
    "version": 3
   },
   "file_extension": ".py",
   "mimetype": "text/x-python",
   "name": "python",
   "nbconvert_exporter": "python",
   "pygments_lexer": "ipython3",
   "version": "3.12.1"
  }
 },
 "nbformat": 4,
 "nbformat_minor": 4
}
